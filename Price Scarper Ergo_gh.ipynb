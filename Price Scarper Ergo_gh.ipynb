{
 "cells": [
  {
   "attachments": {},
   "cell_type": "markdown",
   "metadata": {},
   "source": [
    "# Product Pricing Informaion Gathering with Python\n",
    "\n",
    "This Project will use an existing product list with part number to gather updated pricing by scraping the manufacturer's site and gathering the updated info into a new CSV file."
   ]
  },
  {
   "attachments": {},
   "cell_type": "markdown",
   "metadata": {},
   "source": [
    "#### 1. Importing dependancies, adjusting settings and creating the backup function."
   ]
  },
  {
   "cell_type": "code",
   "execution_count": 1,
   "metadata": {},
   "outputs": [],
   "source": [
    "import pandas as pd \n",
    "import numpy as np\n",
    "import requests\n",
    "import time\n",
    "import random\n",
    "from bs4 import BeautifulSoup as BS\n",
    "from selenium import webdriver\n",
    "from selenium.webdriver.common.keys import Keys\n",
    "from selenium.webdriver.common.by import By\n",
    "from selenium.webdriver.support.ui import WebDriverWait\n",
    "from selenium.webdriver.support import expected_conditions as EC\n",
    "from selenium.common.exceptions import TimeoutException\n",
    "from requests import get\n",
    "import re\n",
    "import pickle\n",
    "pd.set_option('display.max_rows', 500)"
   ]
  },
  {
   "cell_type": "code",
   "execution_count": 3,
   "metadata": {},
   "outputs": [],
   "source": [
    "#Setup backup functions to create binary backups of variables in case of a kernal crash or need to stop and restart the kernal:\n",
    "def save(filename, *args):\n",
    "    # Get global dictionary\n",
    "    glob = globals()\n",
    "    d = {}\n",
    "    for v in args:\n",
    "        # Copy over desired values\n",
    "        d[v] = glob[v]\n",
    "    with open(filename, 'wb') as f:\n",
    "        # Put them in the file \n",
    "        pickle.dump(d, f)\n",
    "\n",
    "def load(filename):\n",
    "    # Get global dictionary\n",
    "    glob = globals()\n",
    "    with open(filename, 'rb') as f:\n",
    "        for k, v in pickle.load(f).items():\n",
    "            # Set each global variable to the value from the file\n",
    "            glob[k] = v\n",
    "\n",
    "def delay() -> None:\n",
    "    time.sleep(random.uniform(5, 10))\n",
    "    return None            "
   ]
  },
  {
   "attachments": {},
   "cell_type": "markdown",
   "metadata": {},
   "source": [
    "#### 2. Import CRM parts file with the part numbers needed.  I've manually removed information that's not needed so that we just have the part numbers for products we are interested in finding. With this particular CRM the Ergotron part numbers start with ERG allowing for filtering out other manufacturers within the program but in this example case I've done that already."
   ]
  },
  {
   "cell_type": "code",
   "execution_count": 5,
   "metadata": {},
   "outputs": [
    {
     "name": "stdout",
     "output_type": "stream",
     "text": [
      "(339, 33)\n",
      "Index(['Product Name', 'ID', 'Description', 'contact_id', 'Assigned to',\n",
      "       'Assigned User Id', 'Date Created', 'Date Modified', 'Created By',\n",
      "       'Modified By', 'Deleted', 'Product Code', 'Part Number', 'Category',\n",
      "       'Product Type', 'Cost', 'Cost (Default Currency)', 'Currency', 'Price',\n",
      "       'Price (Default Currency)', 'URL', 'Product Image',\n",
      "       'Product Category ID', 'Modified By Name', 'modified_by_name_owner',\n",
      "       'modified_by_name_mod', 'Created By.1', 'created_by_name_owner',\n",
      "       'created_by_name_mod', 'assigned_user_name_owner',\n",
      "       'assigned_user_name_mod', 'Contact', 'Product Category'],\n",
      "      dtype='object')\n"
     ]
    }
   ],
   "source": [
    "pn2 = []\n",
    "pn2 = pd.read_csv('CRM.csv',  thousands=\",\")\n",
    "pn2['Product Name'] = pn2['Product Name'].astype(str)\n",
    "pn2 = pn2.loc[pn2['Product Name'].str.startswith('ERG', na=False)]\n",
    "print(pn2.shape)\n",
    "print(pn2.columns)\n"
   ]
  },
  {
   "cell_type": "code",
   "execution_count": 6,
   "metadata": {},
   "outputs": [
    {
     "name": "stdout",
     "output_type": "stream",
     "text": [
      "     Product Name                                        Description  \\\n",
      "0  ERG-33-397-085   WorkFit-T, Sit-Stand Desktop Workstation (black)   \n",
      "1  ERG-61-367-030  CareFit Enclosure (snow white) Wall-mount comp...   \n",
      "2  ERG-45-478-026      HX Wall Mount Monitor Arm (polished aluminum)   \n",
      "3  ERG-24-313-026                               WorkFit-A, Single LD   \n",
      "4  ERG-60-610-062  StyleView Sit-Stand Enclosure (bright white), ...   \n",
      "\n",
      "  Part Number      Price  \n",
      "0  33-397-085    $590.00  \n",
      "1  61-367-030  $1,398.00  \n",
      "2  45-478-026    $450.00  \n",
      "3  24-313-026    $409.00  \n",
      "4  60-610-062  $1,112.00  \n"
     ]
    }
   ],
   "source": [
    "pn2 = pn2.drop(['ID', 'contact_id', 'Assigned to',\n",
    "       'Assigned User Id', 'Date Created', 'Date Modified', 'Created By',\n",
    "       'Modified By', 'Deleted', 'Product Code', 'Category',\n",
    "       'Product Type', 'Cost', 'Cost (Default Currency)', 'Currency',\n",
    "       'Price (Default Currency)', 'URL', 'Product Image',\n",
    "       'Product Category ID', 'Modified By Name', 'modified_by_name_owner',\n",
    "       'modified_by_name_mod', 'Created By.1', 'created_by_name_owner',\n",
    "       'created_by_name_mod', 'assigned_user_name_owner',\n",
    "       'assigned_user_name_mod', 'Contact', 'Product Category'],axis=1)\n",
    "print(pn2.head())"
   ]
  },
  {
   "attachments": {},
   "cell_type": "markdown",
   "metadata": {},
   "source": [
    "#### 3. Making some modifications to the dataframe to help with data manipulation later."
   ]
  },
  {
   "cell_type": "code",
   "execution_count": 7,
   "metadata": {},
   "outputs": [
    {
     "data": {
      "text/html": [
       "<div>\n",
       "<style scoped>\n",
       "    .dataframe tbody tr th:only-of-type {\n",
       "        vertical-align: middle;\n",
       "    }\n",
       "\n",
       "    .dataframe tbody tr th {\n",
       "        vertical-align: top;\n",
       "    }\n",
       "\n",
       "    .dataframe thead th {\n",
       "        text-align: right;\n",
       "    }\n",
       "</style>\n",
       "<table border=\"1\" class=\"dataframe\">\n",
       "  <thead>\n",
       "    <tr style=\"text-align: right;\">\n",
       "      <th></th>\n",
       "      <th>Product Name</th>\n",
       "      <th>Description</th>\n",
       "      <th>Part Number</th>\n",
       "      <th>Price</th>\n",
       "      <th>PN_len</th>\n",
       "      <th>Part Short</th>\n",
       "    </tr>\n",
       "  </thead>\n",
       "  <tbody>\n",
       "    <tr>\n",
       "      <th>0</th>\n",
       "      <td>ERG-33-397-085</td>\n",
       "      <td>WorkFit-T, Sit-Stand Desktop Workstation (black)</td>\n",
       "      <td>33-397-085</td>\n",
       "      <td>$590.00</td>\n",
       "      <td>10</td>\n",
       "      <td>33-397</td>\n",
       "    </tr>\n",
       "    <tr>\n",
       "      <th>1</th>\n",
       "      <td>ERG-61-367-030</td>\n",
       "      <td>CareFit Enclosure (snow white) Wall-mount comp...</td>\n",
       "      <td>61-367-030</td>\n",
       "      <td>$1,398.00</td>\n",
       "      <td>10</td>\n",
       "      <td>61-367</td>\n",
       "    </tr>\n",
       "    <tr>\n",
       "      <th>2</th>\n",
       "      <td>ERG-45-478-026</td>\n",
       "      <td>HX Wall Mount Monitor Arm (polished aluminum)</td>\n",
       "      <td>45-478-026</td>\n",
       "      <td>$450.00</td>\n",
       "      <td>10</td>\n",
       "      <td>45-478</td>\n",
       "    </tr>\n",
       "    <tr>\n",
       "      <th>3</th>\n",
       "      <td>ERG-24-313-026</td>\n",
       "      <td>WorkFit-A, Single LD</td>\n",
       "      <td>24-313-026</td>\n",
       "      <td>$409.00</td>\n",
       "      <td>10</td>\n",
       "      <td>24-313</td>\n",
       "    </tr>\n",
       "    <tr>\n",
       "      <th>4</th>\n",
       "      <td>ERG-60-610-062</td>\n",
       "      <td>StyleView Sit-Stand Enclosure (bright white), ...</td>\n",
       "      <td>60-610-062</td>\n",
       "      <td>$1,112.00</td>\n",
       "      <td>10</td>\n",
       "      <td>60-610</td>\n",
       "    </tr>\n",
       "  </tbody>\n",
       "</table>\n",
       "</div>"
      ],
      "text/plain": [
       "     Product Name                                        Description  \\\n",
       "0  ERG-33-397-085   WorkFit-T, Sit-Stand Desktop Workstation (black)   \n",
       "1  ERG-61-367-030  CareFit Enclosure (snow white) Wall-mount comp...   \n",
       "2  ERG-45-478-026      HX Wall Mount Monitor Arm (polished aluminum)   \n",
       "3  ERG-24-313-026                               WorkFit-A, Single LD   \n",
       "4  ERG-60-610-062  StyleView Sit-Stand Enclosure (bright white), ...   \n",
       "\n",
       "  Part Number      Price  PN_len Part Short  \n",
       "0  33-397-085    $590.00      10     33-397  \n",
       "1  61-367-030  $1,398.00      10     61-367  \n",
       "2  45-478-026    $450.00      10     45-478  \n",
       "3  24-313-026    $409.00      10     24-313  \n",
       "4  60-610-062  $1,112.00      10     60-610  "
      ]
     },
     "execution_count": 7,
     "metadata": {},
     "output_type": "execute_result"
    }
   ],
   "source": [
    "pn2['Part Number'] = pn2['Product Name'].str.lstrip('ERG-')\n",
    "pn2['PN_len'] = pn2['Part Number'].apply(len)\n",
    "pn2.loc[pn2['PN_len'] == 10, 'Part Short'] = pn2['Part Number'].str[:6]\n",
    "pn2.loc[pn2['PN_len'] == 11, 'Part Short'] = pn2['Part Number'].str[:9]\n",
    "pn2.loc[pn2['Part Number'].str.contains('C50'), 'Part Short'] = pn2['Part Number'].str[:-2]\n",
    "pn2['Part Short'] = pn2['Part Short'].fillna(pn2['Part Number'])\n",
    "pn2.head()"
   ]
  },
  {
   "attachments": {},
   "cell_type": "markdown",
   "metadata": {},
   "source": [
    "#### 4. Collect the Unique Item IDs Used by The Traget Site\n",
    "Due to the structure of the target wesite it was determined that the most effective way to extract the info needed was to first identify the product ID codes used in the website to pull up the pricing information from a json file. So this will be step 1 of a 2 step scraping process where we will get all the product IDs for the items in our starting dataframe and and add them to a list."
   ]
  },
  {
   "cell_type": "code",
   "execution_count": null,
   "metadata": {},
   "outputs": [],
   "source": [
    "item =[]\n",
    "itme2 = []\n",
    "def delay() -> None:\n",
    "    time.sleep(random.uniform(5, 10))\n",
    "    return None\n",
    "item = pn2['Part Short']\n",
    "item2 = pn2['Part Number']\n",
    "headers = {'User-Agent': 'Mozilla/5.0'}\n",
    "prod_id_df = []\n",
    "part_num = []\n",
    "p_id = []\n",
    "actual_pn = []\n",
    "\n",
    "for part, part2 in zip(item, item2):\n",
    "    item_code = part\n",
    "    full_prt = part2\n",
    "    url = \"https://partner.ergotron.com/en-us/products/product-details/{}#\" .format(item_code)\n",
    "    delay()\n",
    "    r = requests.get(url, headers=headers)\n",
    "    soup = BS(r.text, 'html.parser')\n",
    "    try:\n",
    "        target = soup.find(\"div\", {\"id\": \"dnn_ctr443_ContentPane\"})\n",
    "        target = str(target)\n",
    "        tar = target.split(\"productId =\",1)[1]\n",
    "        tar = tar.split(\",\",1)[0]\n",
    "        tar = re.sub(\"[^0-9]\", \"\", tar)\n",
    "    except:\n",
    "        try:\n",
    "            item_code = part2\n",
    "            full_prt = part2\n",
    "            url = \"https://partner.ergotron.com/en-us/products/product-details/{}#\" .format(item_code)\n",
    "            delay()\n",
    "            r = requests.get(url, headers=headers)\n",
    "            soup = BS(r.text, 'html.parser')\n",
    "            target = soup.find(\"div\", {\"id\": \"dnn_ctr443_ContentPane\"})\n",
    "            target = str(target)\n",
    "            tar = target.split(\"productId =\",1)[1]\n",
    "            tar = tar.split(\",\",1)[0]\n",
    "            tar = re.sub(\"[^0-9]\", \"\", tar)\n",
    "        except:    \n",
    "            try:\n",
    "                item_code = part2 \n",
    "                full_prt = part2\n",
    "                url = \"https://partner.ergotron.com/en-us/products/product-details/{}\" .format(item_code)\n",
    "                delay()\n",
    "                r = requests.get(url, headers=headers)\n",
    "                soup = BS(r.text, 'html.parser')\n",
    "                target = soup.find(\"div\", {\"id\": \"dnn_ctr443_ContentPane\"})\n",
    "                target = str(target)\n",
    "                tar = target.split(\"productId =\",1)[1]\n",
    "                tar = tar.split(\",\",1)[0]\n",
    "                tar = re.sub(\"[^0-9]\", \"\", tar)\n",
    "            except:    \n",
    "                tar = \"URL nonmatch\"\n",
    "    p_id.append(tar)\n",
    "    part_num.append(item_code)\n",
    "    actual_pn.append(full_prt)\n",
    "prod_id_df= pd.DataFrame(\n",
    "    {\"part\": part_num,\n",
    "     \"id\": p_id,\n",
    "     \"Part Number\": actual_pn\n",
    "     })\n",
    "    \n",
    "prod_id_df.head()"
   ]
  },
  {
   "cell_type": "code",
   "execution_count": null,
   "metadata": {},
   "outputs": [],
   "source": [
    "disc_items=['98-353-921','PM3616SM/MP','98-353-921','ABS4835SM-CG']\n",
    "cust_item=['SV42-6201','45-270-216','45-253-026','45-271-026','45-383-026','97-464','45-549-026','45-622-251','45-270-026','97-909','24-391-026','24-190-085','45-304-026','97-942']\n",
    "url_lst=['sv42-6201#',\n",
    "        '45-272#/?color=white&cpu%20size%20option=Medium',\n",
    "        '45-247#/?color=polished%20aluminum&cpu%20size%20option=Small',\n",
    "        '45-273#/?color=polished%20aluminum&cpu%20size%20option=Medium',\n",
    "        '45-353#/?capacity%20option=14–30%20lbs%20%2F%206.4–13.6%20kg&color=polished%20aluminum',\n",
    "        'coiledextensioncordaccessorykit#/?power%20region=US%2FCA%2FMX',\n",
    "        '45-509#/?color=polished%20aluminum',\n",
    "        '45-621#/?color=white&worksurface%20option=Full%20worksurface',\n",
    "        '45-272#/?color=polished%20aluminum&cpu%20size%20option=Medium',\n",
    "        'svreplacementcoiledcordslacarts#/?power%20region=US%2FCA%2FMX',\n",
    "        '24-390#/?capacity%20option=10–20%20lbs%20%2F%204.5–9.1%20kg&color=polished%20aluminum',\n",
    "        '24-192#/?capacity%20option=25–50%20lbs%20%2F%2011.3–22.7%20kg&color=black',\n",
    "        '45-296#/?capacity%20option=35–70%20lbs%20%2F%2015.9–31.8%20kg&color=polished%20aluminum',\n",
    "        'svdcpowersystem#/?hardware%20configuration=for%20LCD%20%2B%20CPU']\n",
    "cust_url= pd.DataFrame(\n",
    "    {'part': cust_item,\n",
    "    'url_tail': url_lst\n",
    "    })\n",
    "url_update = []\n",
    "updt_prt = []\n",
    "# for row in prod_id_df['part']:\n",
    "#     if '98-353-921' in row:\n",
    "#         prod_id_df['id'] = 'discontinued'\n",
    "for row in range(len(cust_url)):\n",
    "    url = \"https://partner.ergotron.com/en-us/products/product-details/{}\" .format((cust_url).loc[row, \"url_tail\"])\n",
    "    # print(url)\n",
    "    delay()\n",
    "    r = requests.get(url, headers=headers)\n",
    "    soup = BS(r.text, 'html.parser')\n",
    "    try:\n",
    "        target = soup.find(\"div\", {\"id\": \"dnn_ctr443_ContentPane\"})\n",
    "        target = str(target)\n",
    "        tar = target.split(\"productId =\",1)[1]\n",
    "        tar = tar.split(\",\",1)[0]\n",
    "        tar = re.sub(\"[^0-9]\", \"\", tar)\n",
    "    except:    \n",
    "        tar = \"URL nonmatch\"\n",
    "    url_update.append(tar)\n",
    "cust_url['id']=url_update\n",
    "\n",
    "cust_url.head()"
   ]
  },
  {
   "attachments": {},
   "cell_type": "markdown",
   "metadata": {},
   "source": [
    "**Backup and Reload Point**\n",
    "\n",
    " After successfully completeing the above opperations we should back up the variables to avoid repeated reruns of scraping opperations."
   ]
  },
  {
   "cell_type": "code",
   "execution_count": 10,
   "metadata": {},
   "outputs": [],
   "source": [
    "#backup dataframe variables\n",
    "save(\"ergo_ps_backup\", 'cust_url', 'pn2', 'prod_id_df', 'cust_item', 'disc_items')"
   ]
  },
  {
   "cell_type": "code",
   "execution_count": 3,
   "metadata": {},
   "outputs": [],
   "source": [
    "#Load backup if needed\n",
    "load(\"ergo_ps_backup\")"
   ]
  },
  {
   "cell_type": "code",
   "execution_count": 5,
   "metadata": {},
   "outputs": [
    {
     "name": "stdout",
     "output_type": "stream",
     "text": [
      "24\n",
      "19\n"
     ]
    },
    {
     "data": {
      "text/html": [
       "<div>\n",
       "<style scoped>\n",
       "    .dataframe tbody tr th:only-of-type {\n",
       "        vertical-align: middle;\n",
       "    }\n",
       "\n",
       "    .dataframe tbody tr th {\n",
       "        vertical-align: top;\n",
       "    }\n",
       "\n",
       "    .dataframe thead th {\n",
       "        text-align: right;\n",
       "    }\n",
       "</style>\n",
       "<table border=\"1\" class=\"dataframe\">\n",
       "  <thead>\n",
       "    <tr style=\"text-align: right;\">\n",
       "      <th></th>\n",
       "      <th>id</th>\n",
       "      <th>Part Number</th>\n",
       "    </tr>\n",
       "    <tr>\n",
       "      <th>part</th>\n",
       "      <th></th>\n",
       "      <th></th>\n",
       "    </tr>\n",
       "  </thead>\n",
       "  <tbody>\n",
       "    <tr>\n",
       "      <th>33-397</th>\n",
       "      <td>143</td>\n",
       "      <td>33-397-085</td>\n",
       "    </tr>\n",
       "    <tr>\n",
       "      <th>61-367</th>\n",
       "      <td>1289</td>\n",
       "      <td>61-367-030</td>\n",
       "    </tr>\n",
       "    <tr>\n",
       "      <th>45-478</th>\n",
       "      <td>1055</td>\n",
       "      <td>45-478-026</td>\n",
       "    </tr>\n",
       "    <tr>\n",
       "      <th>24-313</th>\n",
       "      <td>48</td>\n",
       "      <td>24-313-026</td>\n",
       "    </tr>\n",
       "    <tr>\n",
       "      <th>60-610</th>\n",
       "      <td>273</td>\n",
       "      <td>60-610-062</td>\n",
       "    </tr>\n",
       "  </tbody>\n",
       "</table>\n",
       "</div>"
      ],
      "text/plain": [
       "          id Part Number\n",
       "part                    \n",
       "33-397   143  33-397-085\n",
       "61-367  1289  61-367-030\n",
       "45-478  1055  45-478-026\n",
       "24-313    48  24-313-026\n",
       "60-610   273  60-610-062"
      ]
     },
     "execution_count": 5,
     "metadata": {},
     "output_type": "execute_result"
    }
   ],
   "source": [
    "#Correcting some of the missing IDs\n",
    "prod_id_2 = []\n",
    "prod_id_2 = prod_id_df.copy()\n",
    "print(prod_id_2['id'].value_counts()['URL nonmatch'])\n",
    "prod_id_2.set_index('part', inplace=True)\n",
    "prod_id_2.update(cust_url.set_index('part'), overwrite=True)\n",
    "prod_id_2.reset_index() \n",
    "print(prod_id_2['id'].value_counts()['URL nonmatch'])\n",
    "prod_id_2.head()\n",
    "\n"
   ]
  },
  {
   "cell_type": "code",
   "execution_count": 6,
   "metadata": {},
   "outputs": [
    {
     "name": "stdout",
     "output_type": "stream",
     "text": [
      "339\n",
      "319\n"
     ]
    },
    {
     "data": {
      "text/html": [
       "<div>\n",
       "<style scoped>\n",
       "    .dataframe tbody tr th:only-of-type {\n",
       "        vertical-align: middle;\n",
       "    }\n",
       "\n",
       "    .dataframe tbody tr th {\n",
       "        vertical-align: top;\n",
       "    }\n",
       "\n",
       "    .dataframe thead th {\n",
       "        text-align: right;\n",
       "    }\n",
       "</style>\n",
       "<table border=\"1\" class=\"dataframe\">\n",
       "  <thead>\n",
       "    <tr style=\"text-align: right;\">\n",
       "      <th></th>\n",
       "      <th>id</th>\n",
       "      <th>Part Number</th>\n",
       "    </tr>\n",
       "    <tr>\n",
       "      <th>part</th>\n",
       "      <th></th>\n",
       "      <th></th>\n",
       "    </tr>\n",
       "  </thead>\n",
       "  <tbody>\n",
       "    <tr>\n",
       "      <th>24-189</th>\n",
       "      <td>10</td>\n",
       "      <td>24-189-055</td>\n",
       "    </tr>\n",
       "    <tr>\n",
       "      <th>31-016</th>\n",
       "      <td>100</td>\n",
       "      <td>31-016-182</td>\n",
       "    </tr>\n",
       "    <tr>\n",
       "      <th>31-017</th>\n",
       "      <td>101</td>\n",
       "      <td>31-017-182</td>\n",
       "    </tr>\n",
       "    <tr>\n",
       "      <th>31-018</th>\n",
       "      <td>102</td>\n",
       "      <td>31-018-216</td>\n",
       "    </tr>\n",
       "    <tr>\n",
       "      <th>31-018</th>\n",
       "      <td>102</td>\n",
       "      <td>31-018-182</td>\n",
       "    </tr>\n",
       "  </tbody>\n",
       "</table>\n",
       "</div>"
      ],
      "text/plain": [
       "         id Part Number\n",
       "part                   \n",
       "24-189   10  24-189-055\n",
       "31-016  100  31-016-182\n",
       "31-017  101  31-017-182\n",
       "31-018  102  31-018-216\n",
       "31-018  102  31-018-182"
      ]
     },
     "execution_count": 6,
     "metadata": {},
     "output_type": "execute_result"
    }
   ],
   "source": [
    "#removing duplicates\n",
    "print(len(prod_id_2))\n",
    "prod_id_2 = prod_id_2.sort_values(['id']).drop_duplicates( keep='first')\n",
    "\n",
    "print(len(prod_id_2))\n",
    "prod_id_2.head()"
   ]
  },
  {
   "cell_type": "code",
   "execution_count": 13,
   "metadata": {},
   "outputs": [
    {
     "data": {
      "text/html": [
       "<div>\n",
       "<style scoped>\n",
       "    .dataframe tbody tr th:only-of-type {\n",
       "        vertical-align: middle;\n",
       "    }\n",
       "\n",
       "    .dataframe tbody tr th {\n",
       "        vertical-align: top;\n",
       "    }\n",
       "\n",
       "    .dataframe thead th {\n",
       "        text-align: right;\n",
       "    }\n",
       "</style>\n",
       "<table border=\"1\" class=\"dataframe\">\n",
       "  <thead>\n",
       "    <tr style=\"text-align: right;\">\n",
       "      <th></th>\n",
       "      <th>id</th>\n",
       "      <th>Part Number</th>\n",
       "      <th>part</th>\n",
       "    </tr>\n",
       "  </thead>\n",
       "  <tbody>\n",
       "    <tr>\n",
       "      <th>0</th>\n",
       "      <td>10</td>\n",
       "      <td>24-189-055</td>\n",
       "      <td>24-189</td>\n",
       "    </tr>\n",
       "    <tr>\n",
       "      <th>1</th>\n",
       "      <td>100</td>\n",
       "      <td>31-016-182</td>\n",
       "      <td>31-016</td>\n",
       "    </tr>\n",
       "    <tr>\n",
       "      <th>2</th>\n",
       "      <td>101</td>\n",
       "      <td>31-017-182</td>\n",
       "      <td>31-017</td>\n",
       "    </tr>\n",
       "    <tr>\n",
       "      <th>3</th>\n",
       "      <td>102</td>\n",
       "      <td>31-018-216</td>\n",
       "      <td>31-018</td>\n",
       "    </tr>\n",
       "    <tr>\n",
       "      <th>4</th>\n",
       "      <td>102</td>\n",
       "      <td>31-018-182</td>\n",
       "      <td>31-018</td>\n",
       "    </tr>\n",
       "  </tbody>\n",
       "</table>\n",
       "</div>"
      ],
      "text/plain": [
       "    id Part Number    part\n",
       "0   10  24-189-055  24-189\n",
       "1  100  31-016-182  31-016\n",
       "2  101  31-017-182  31-017\n",
       "3  102  31-018-216  31-018\n",
       "4  102  31-018-182  31-018"
      ]
     },
     "execution_count": 13,
     "metadata": {},
     "output_type": "execute_result"
    }
   ],
   "source": [
    "prod_id_2['part']= prod_id_2.index\n",
    "prod_id_2.reset_index(drop=True, inplace=True)\n",
    "prod_id_2.head()"
   ]
  },
  {
   "attachments": {},
   "cell_type": "markdown",
   "metadata": {},
   "source": [
    "#### 5. Now we will take our product id list and add that to a new column in our dataframe and at the same time we will create a dataframe for those products for which we could not find a product ID. After looking over this list it mostly contains discontinued products."
   ]
  },
  {
   "cell_type": "code",
   "execution_count": 7,
   "metadata": {},
   "outputs": [
    {
     "name": "stdout",
     "output_type": "stream",
     "text": [
      "(339, 7)\n",
      "     Product Name                                        Description  \\\n",
      "0  ERG-33-397-085   WorkFit-T, Sit-Stand Desktop Workstation (black)   \n",
      "1  ERG-61-367-030  CareFit Enclosure (snow white) Wall-mount comp...   \n",
      "2  ERG-45-478-026      HX Wall Mount Monitor Arm (polished aluminum)   \n",
      "3  ERG-45-478-026                         HX Wall mount monitor arm.   \n",
      "4  ERG-24-313-026                               WorkFit-A, Single LD   \n",
      "\n",
      "  Part Number      Price  PN_len Part Short    id  \n",
      "0  33-397-085    $590.00      10     33-397   143  \n",
      "1  61-367-030  $1,398.00      10     61-367  1289  \n",
      "2  45-478-026    $450.00      10     45-478  1055  \n",
      "3  45-478-026    $450.00      10     45-478  1055  \n",
      "4  24-313-026    $409.00      10     24-313    48  \n",
      "        Product Name                                        Description  \\\n",
      "12    ERG-98-353-921  WorkFit Electric Sit-Stand Desk, 46\"W (black/g...   \n",
      "13    ERG-98-353-921       WorkFit Electric Sit-Stand Desk, 46\" Surface   \n",
      "20  ERG-EPM3616SM/MP  eNook Pro Wall Desk with enclosed monitor moun...   \n",
      "33    ERG- SV42-6201  SV42 StyleView Cart with LCD Arm and 66 Ah SLA...   \n",
      "47   ERG-509-941-085  Replacement Mouse and Scanner Bracket for Sit-...   \n",
      "\n",
      "    Part Number      Price  PN_len Part Short            id  \n",
      "12   98-353-921    $949.00      10     98-353  URL nonmatch  \n",
      "13   98-353-921    $854.00      10     98-353  URL nonmatch  \n",
      "20  PM3616SM/MP  $1,199.00      11  PM3616SM/  URL nonmatch  \n",
      "33    SV42-6201  $3,077.00      10      SV42-  URL nonmatch  \n",
      "47  509-941-085     $10.00      11  509-941-0  URL nonmatch  \n"
     ]
    }
   ],
   "source": [
    "\n",
    "pn3 =pn2.merge(right=prod_id_2[['Part Number','id']], left_on='Part Number', right_on='Part Number') \n",
    "print(pn3.shape)\n",
    "\n",
    "# Check whether we have any missing ids:\n",
    "redo = pn3[pn3.id.str.contains(\"URL nonmatch\")]\n",
    "pn3 = pn3[~pn3.id.str.contains(\"URL nonmatch\")]\n",
    "print(pn3.head())\n",
    "print (redo.head())"
   ]
  },
  {
   "cell_type": "code",
   "execution_count": 17,
   "metadata": {},
   "outputs": [],
   "source": [
    "#backup dataframe variables\n",
    "save(\"ergo_ps_backup\", 'cust_url', 'pn2', 'prod_id_df', 'cust_item', 'disc_items','pn3','pn3')"
   ]
  },
  {
   "cell_type": "code",
   "execution_count": 18,
   "metadata": {},
   "outputs": [],
   "source": [
    "#Load backup if needed\n",
    "load(\"ergo_ps_backup\")"
   ]
  },
  {
   "attachments": {},
   "cell_type": "markdown",
   "metadata": {},
   "source": [
    "#### 6. Determining whether items are discontinued or active and gathering SSP (suggested sale price) for each item.\n",
    "\n",
    "With this site there is a field in the json file containing all the product info for each product that lists an \"endDate\" after which the product will be discontinued. We can read this date and determine if the parts are still active."
   ]
  },
  {
   "cell_type": "code",
   "execution_count": 19,
   "metadata": {},
   "outputs": [],
   "source": [
    "\n",
    "from datetime import datetime\n",
    "import json\n",
    "item7=pn3['id']\n",
    "item8=pn3['Part Number']\n",
    "headers = {'User-Agent': 'Mozilla/5.0'}\n",
    "numbers = re.compile(r'\\d+(?:\\.\\d+)?')\n",
    "item_status = []\n",
    "part_name = []\n",
    "for part, num in zip(item7,item8):\n",
    "    url = \"https://partner.ergotron.com/DesktopModules/Ergotron/API/Client/GetProductDetails?culture=en-us&productId={}\" .format(part)\n",
    "    delay()\n",
    "    r = requests.get(url, headers=headers).json()\n",
    "    s = str(r)\n",
    "    part_name.append(num)\n",
    "    try:\n",
    "        r_json = json.dumps(r['result'])\n",
    "        r_json = json.loads(r_json)\n",
    "        result_json = r_json[0]\n",
    "        p1 = result_json[\"endDate\"]\n",
    "        try:\n",
    "            p1_dt = datetime.strptime(p1,\"%Y-%m-%dT%H:%M:%SZ\")\n",
    "            if p1_dt < datetime.today():\n",
    "                item_status.append(\"EOL item\")\n",
    "            else:\n",
    "                item_status.append('not EOL')\n",
    "        except:\n",
    "            item_status.append('no end date')\n",
    "    except:\n",
    "        item_status.append('invalid URL')\n"
   ]
  },
  {
   "cell_type": "code",
   "execution_count": null,
   "metadata": {},
   "outputs": [],
   "source": [
    "pn4 = pn3[[\"Product Name\",\"Part Number\",\"id\"]]\n",
    "pn4.insert(3, \"Status\", item_status, True)\n",
    "print (pn4.shape)\n",
    "pn4.head()"
   ]
  },
  {
   "cell_type": "code",
   "execution_count": 21,
   "metadata": {},
   "outputs": [
    {
     "name": "stdout",
     "output_type": "stream",
     "text": [
      "(37, 4)\n",
      "(283, 4)\n"
     ]
    }
   ],
   "source": [
    "redo2 = pn4[pn4['Status'].str.contains('EOL item') == True]\n",
    "pn4 = pn4[pn4['Status'].str.contains('EOL item') == False]\n",
    "print(redo2.shape)\n",
    "print(pn4.shape)"
   ]
  },
  {
   "attachments": {},
   "cell_type": "markdown",
   "metadata": {},
   "source": [
    "Next we can actually gather the SSP pricing in the same way by adding the id to the URL in order to access a json file for each part."
   ]
  },
  {
   "cell_type": "code",
   "execution_count": 22,
   "metadata": {},
   "outputs": [
    {
     "name": "stdout",
     "output_type": "stream",
     "text": [
      "[['614.0'], ['1426.0'], ['455.0'], ['455.0'], ['26.0'], ['119.0'], ['120.0'], ['421.0'], ['156.0'], ['2784.0'], ['1091.0'], ['1091.0'], ['1091.0'], ['73.0'], ['88.0'], ['41.0'], ['49.0'], ['40.0'], ['523.0'], ['77.0'], ['221.0'], ['1250.0'], ['1122.0'], ['2039.0'], ['57.0'], ['714.0'], ['6000.0'], ['111.0'], ['111.0'], ['582.0'], ['582.0'], ['121.0'], ['1070.0'], ['780.0'], ['182.0'], ['1057.0'], ['442.0'], ['274.0'], ['167.0'], [], ['92.0'], ['867.0'], ['41.0'], ['455.0'], ['57.0'], ['1323.0'], ['181.0'], ['1426.0'], ['1182.0'], ['180.0'], ['622.0'], ['126.0'], ['126.0'], ['208.0'], ['429.0'], ['135.0'], ['257.0'], ['136.0'], ['106.0'], ['867.0'], ['851.0'], ['1059.0'], ['1417.0'], ['75.0'], ['56.0'], ['1959.0'], ['739.0'], ['1921.0'], ['40.0'], ['40.0'], ['285.0'], ['62.0'], ['62.0'], ['81.0'], ['1053.0'], ['317.0'], ['79.0'], ['6058.0'], ['150.0'], ['112.0'], ['97.0'], ['282.0'], ['123.0'], ['276.0'], ['238.0'], ['158.0'], ['165.0'], ['214.0'], ['446.0'], ['403.0'], ['1259.0'], ['476.0'], ['79.0'], ['5814.0'], ['789.0'], ['100.0'], ['201.0'], ['201.0'], ['58.0'], ['58.0'], ['146.0'], ['708.0'], ['1061.0'], ['71.0'], ['42.0'], ['522.0'], ['77.0'], ['735.0'], ['39.0'], ['1605.0'], ['49.0'], ['92.0'], ['68.0'], ['92.0'], ['88.0'], ['256.0'], ['1319.0'], [], ['81.0'], ['202.0'], ['36.0'], ['1319.0'], ['1319.0'], ['34.0'], ['1015.0'], ['71.0'], ['708.0'], ['165.0'], ['18.0'], ['1052.0'], ['1052.0'], ['1404.0'], ['1983.0'], ['522.0'], ['1057.0'], ['109.0'], ['268.0'], ['7162.0'], ['304.0'], ['1474.0'], ['6898.0'], ['439.0'], ['181.0'], ['1070.0'], ['81.0'], ['81.0'], ['1542.0'], ['146.0'], ['291.0'], ['2649.0'], ['31.0'], ['1417.0'], ['1394.0'], ['46.0'], ['282.0'], ['541.0'], ['512.0'], ['546.0'], ['76.0'], ['51.0'], ['238.0'], ['1321.0'], ['109.0'], ['109.0'], ['1366.0'], ['81.0'], ['808.0'], ['1225.0'], ['109.0'], ['403.0'], ['350.0'], ['1300.0'], ['712.0'], ['432.0'], ['1435.0'], ['75.0'], ['75.0'], ['741.0'], ['165.0'], ['692.0'], ['155.0'], ['112.0'], ['3469.0'], ['1983.0'], ['1323.0'], ['758.0'], ['302.0'], ['1299.0'], ['867.0'], [], ['400.0'], ['2527.0'], ['2527.0'], ['136.0'], ['217.0'], ['28.0'], ['90.0'], ['85.0'], ['215.0'], ['1103.0'], ['55.0'], ['56.0'], ['230.0'], ['35.0'], ['4510.0'], ['169.0'], ['523.0'], ['82.0'], ['117.0'], ['1321.0'], ['1181.0'], ['1181.0'], ['250.0'], ['309.0'], ['259.0'], [], ['1077.0'], [], ['119.0'], ['250.0'], ['712.0'], ['1252.0'], ['97.0'], ['147.0'], ['56.0'], ['2649.0'], ['587.0'], ['90.0'], ['151.0'], ['142.0'], ['492.0'], ['643.0'], ['730.0'], ['41.0'], [], ['5619.0'], ['274.0'], ['1059.0'], ['112.0'], ['2913.0'], ['205.0'], ['1697.0'], ['6118.0'], ['951.0'], ['437.0'], ['119.0'], ['295.0'], ['150.0'], ['1173.0'], ['541.0'], ['404.0'], ['735.0'], ['1848.0'], ['323.0'], ['28.0'], ['1713.0'], ['76.0'], ['120.0'], ['541.0'], ['207.0'], ['644.0'], ['254.0'], ['1160.0'], ['761.0'], ['6171.0'], ['1581.0'], ['58.0'], ['675.0'], ['50.0'], ['84.0'], ['178.0'], ['145.0'], ['442.0'], ['30.0'], ['276.0'], ['6773.0'], ['188.0'], ['7413.0'], ['1183.0'], ['203.0'], ['20.0'], [], ['30.0']]\n",
      "[\"'WorkFit-T, Standing Desk Workstation (black with grey surface)'\", \"'CareFit™ Enclosure (white)'\", \"'HX Wall Monitor Arm (polished aluminum)'\", \"'HX Wall Monitor Arm (polished aluminum)'\", \"'LX Arm Grommet Mount'\", \"'WorkFit Conversion Kit: Dual to LCD & Laptop'\", \"'DS100 Clamping Single Pivot'\", '\\'Command Post - 3\" x 3\" x 80\" Post\\'', \"'Vertical Lift Auto-Retracting Keyboard Kit'\", \"'StyleView® Laptop Cart, 2 Drawers (1x2)'\", \"'CareFit™ Slim Laptop Cart'\", \"'CareFit™ Slim Laptop Cart'\", \"'CareFit™ Slim Laptop Cart'\", \"'100 Series Single Pivot (black or grey)'\", \"'Vertical Small CPU Holder (black)'\", \"'Wall Track Mounting Kit'\", \"'Cable Management Kit (white)'\", \"'Command Post - Hardware Kit for Concrete'\", \"'LX Dual Stacking Arm (polished aluminum)'\", \"'CareFit™ Combo Wireless Scanner Bracket'\", \"'WorkFit LCD & Laptop Kit, universal'\", \"'Zip12 Charging Desktop Cabinet, US/CA/MX'\", \"'LX Wall Mount System (white)'\", \"'YES36 Adjusta Charging Cart'\", \"'Side-Mount Scanner Bracket, Slim 2.0'\", \"'HX Desk Dual Monitor Arm (polished aluminum)'\", \"'StyleView® Telepresence Cart, Single Monitor, Powered'\", \"'Neo-Flex® All-In-One Lift Stand '\", \"'Neo-Flex® All-In-One Lift Stand '\", \"'Neo-Flex® Keyboard Wall Mount'\", \"'Neo-Flex® Keyboard Wall Mount'\", \"'Swing-Out Mouse Shelf'\", \"'SV Combo Arm with Worksurface & Pan (white)'\", \"'SV Combo Arm with Worksurface & Pan (white)'\", \"'Neo-Flex® Tilting Wall Mount, UHD'\", \"'StyleView® Sit-Stand Combo Arm with Worksurface (white)'\", \"'HX Desk Monitor Arm (white)'\", \"'MXV Desk Monitor Arm (white)'\", \"'Command Post - Post Bracket'\", \"'SV4x LiFe Power Module'\", \"'CareFit™ Enclosure Horizontal Scanner Bracket (matte black)'\", \"'WorkFit-S, Dual Workstation with Worksurface (black)'\", \"'Track Mount Bracket Kit'\", \"'HX Wall Monitor Arm (white)'\", \"'NF Cart Basket and Handle Kit '\", \"'StyleView® Combo System with Worksurface, Medium CPU Holder (white)'\", \"'Neo-Flex® Desk Tablet Arm'\", \"'CareFit™ Enclosure (matte black)'\", \"'LX Wall Mount System, Small CPU Holder'\", \"'Neo-Flex® Cantilever, VHD'\", \"'WorkFit® Corner Standing Desk Converter'\", \"'Utility Shelf'\", \"'Utility Shelf'\", \"'Slatwall Bracket'\", \"'HX Triple Monitor Bow Kit (white)'\", \"'Worksurface for WorkFit-S '\", \"'MX Mini Wall Arm (polished aluminum)'\", '\\'34\" Wall Track (silver)\\'', \"'SV Wire Basket, Large'\", \"'StyleView® Vertical Lift, Patient Room (black)'\", \"'WorkFit-LX, Standing Desk Mount System'\", \"'StyleView® Sit-Stand Combo System, Medium CPU Holder (aluminum)'\", \"'Neo-Flex® Dual WideView WorkSpace'\", \"'Monitor Handle Kit'\", \"'LX Extension (polished aluminum)'\", \"'YES40 Charging Cart'\", \"'WorkFit-S, Single LD Workstation with Worksurface (black)'\", \"'Zip12 Charging Wall Cabinet, US/CA/MX'\", \"'Pan Pivot Kit for SV LCD Cart'\", \"'Pan Pivot Kit for SV LCD Cart'\", \"'200 Series Wall Monitor Arm, 2 Extensions'\", \"'FX30 Wall Mount'\", \"'FX30 Wall Mount'\", \"'Universal CPU Holder'\", \"'WorkFit-D Sit-Stand Desk (walnut)'\", \"'Neo-Flex® Dual Monitor Wall Mount'\", \"'Mini PC Mount (white)'\", \"'StyleView® Laptop Cart, LiFe Powered, US/CA/MX'\", \"'WorkFit Single HD Monitor Kit, universal'\", \"'Keyboard Tray with Debris Barrier Upgrade Kit (graphite grey)'\", \"'100 Series Double Pivot (black or grey)'\", \"'MXV Wall Monitor Arm (white)'\", \"'Neo-Flex® Wall Mount Lift'\", \"'LX Wall Monitor Arm (matte black)'\", \"'SV Sit-Stand Combo Extender (white)'\", \"'Lockable Tablet Mount'\", \"'Lockable Tablet Mount'\", \"'200 Series Wall Monitor Arm, 1 Extension'\", \"'Interactive Arm, HD'\", \"'DS100 Dual-Monitor Desk Stand, Vertical'\", \"'LiFeKinnex™ Battery'\", \"'LX HD Sit-Stand Wall Arm'\", \"'Mini PC Mount (black)'\", \"'StyleView® Cart with LCD Pivot, SLA Powered, 4 Drawers (3x1+1), US/CA/MX'\", \"'WorkFit-TX Standing Desk Converter'\", \"'Large Utility Shelf'\", \"'Neo-Flex® Underdesk Keyboard Arm'\", \"'Neo-Flex® Underdesk Keyboard Arm'\", \"'SV40 Basket and Handle Kit'\", \"'SV40 Basket and Handle Kit'\", \"'Coiled Extension Cord Accessory Kit, US/CA/MX'\", \"'StyleView® Vertical Lift, High Traffic Area (black)'\", \"'CareFit™ Combo Arm'\", \"'SV Scanner Shelf'\", \"'SV Replacement Drawer Kit, Single'\", \"'Mobile Desk'\", \"'CareFit™ Combo Scanner Bracket'\", \"'HX Wall Dual Monitor Arm (polished aluminum)'\", \"'K-Slot Lock Kit'\", \"'CareFit™ Slim 2.0 LCD Cart'\", \"'Track Mount Bracket Kit'\", \"'Vertical Small CPU Holder (white)'\", '\\'10\" Wall Track\\'', \"'CareFit™ Enclosure Horizontal Scanner Bracket (snow white)'\", \"'WorkFit Conversion Kit: Single HD to Dual'\", \"'Neo-Flex® Cantilever, UHD'\", \"'SV Combo System with Worksurface & Pan, Small CPU Holder (white)'\", \"'StyleView® Cart with LCD Arm, SLA Powered,  EU'\", \"'Scanner Shelf, VESA Attach (black)'\", \"'Medical-Grade Power Strip'\", \"'Neo-Flex® Wall Mount, ULD'\", \"'SV Combo System with Worksurface & Pan, Small CPU Holder (aluminum)'\", \"'SV Combo System with Worksurface & Pan, Small CPU Holder (aluminum)'\", \"'NF Cart Mounting Bracket'\", \"'StyleView® Sit-Stand Vertical Lift, Patient Room (white)'\", \"'Side-Mount Wireless Scanner Bracket, Slim 2.0'\", \"'StyleView® Vertical Lift, High Traffic Area (white)'\", \"'StyleView® Vertical Lift, High Traffic Area (white)'\", \"'SV T-Nut Kit'\", \"'StyleView® Laptop Cart, SV10'\", \"'StyleView® Laptop Cart, SV10'\", \"'StyleView® Laptop Cart, SV40'\", \"'StyleView® Cart with LCD Pivot'\", \"'LearnFit® Sit-Stand Desk, Short'\", \"'StyleView® Sit-Stand Combo Arm with Worksurface (polished aluminum)'\", '\\'26\" Wall Track\\'', \"'SV Supplemental Storage Drawer, Single'\", \"'StyleView® Cart with LCD Pivot, LiFe Powered, 2 Drawers (1x2), US/CA/MX'\", \"'Command Post - Post Bracket'\", \"'LX Sit-Stand Wall Mount System, Medium CPU Holder'\", \"'StyleView® Cart with LCD Pivot, LiFe Powered, 1 Drawer (1x1), US/CA/MX'\", \"'LX Sit-Stand Wall Arm'\", \"'NF Cart Vertical Laptop Kit'\", \"'SV Combo Arm with Worksurface & Pan (polished aluminum)'\", \"'SV Wire Basket, Small'\", \"'SV Wire Basket, Small'\", \"'StyleView® Cart with LCD Pivot, SV40'\", \"'Keyboard Tray (black)'\", \"'SIM90 Signage Integration Mount'\", \"'StyleView® Cart with LCD Pivot, 1 Tall Drawer (1x1)'\", \"'Quick Release LCD Bracket'\", \"'Neo-Flex® WideView WorkSpace'\", \"'StyleView® Lean WOW™ Cart, SV10'\", \"'Wall Plate'\", \"'MXV Wall Monitor Arm (polished aluminum)'\", \"'LX Sit-Stand Wall Keyboard Arm'\", \"'MXV Desk Dual Monitor Arm (polished aluminum)'\", \"'LX Dual Stacking Arm, Tall Pole (polished aluminum)'\", \"'Dual Monitor Tilt Pivot Kit'\", \"'WorkFit Conversion Kit: Dual to Single HD'\", \"'SV Sit-Stand Combo Extender (polished aluminum)'\", \"'StyleView® Combo System with Worksurface, Small CPU Holder (aluminum)'\", \"'Vertical Universal CPU Holder (silver)'\", \"'Vertical Universal CPU Holder (silver)'\", \"'CareFit™ Combo Arm with Worksurface'\", \"'Scanner Shelf, VESA Attach (white)'\", \"'SV43 Primary Single Drawer for laptop carts'\", \"'WorkFit-C, Single LD Sit-Stand Workstation'\", \"'Vertical Universal CPU Holder (white) '\", \"'SV43/44 Supplemental Single Drawer'\", \"'SV43/44 Supplemental Single Drawer'\", \"'SV43/44 Supplemental Single Drawer'\", \"'WorkFit-A, Dual Workstation with Worksurface'\", \"'LX Wall Keyboard Arm'\", \"'LX Wall Keyboard Arm'\", \"'NF Cart Wire Basket Kit'\", \"'NF Cart Wire Basket Kit'\", \"'WorkFit-A, Dual Workstation with Suspended Keyboard'\", \"'WorkFit-A, Dual Workstation with Suspended Keyboard'\", \"'WorkFit-S, Dual Monitor Standing Desk Workstation'\", \"'Neo-Flex® Monitor Arm'\", \"'Keyboard Tray with Debris Barrier Upgrade Kit (white)'\", \"'StyleView® Telepresence Cart, Single Monitor'\", \"'StyleView® Cart with LCD Arm'\", \"'StyleView® Combo System with Worksurface, Small CPU Holder (white)'\", \"'StyleView® Sit-Stand Combo Arm (polished aluminum)'\", \"'Interactive Arm, LD'\", \"'YES Basic Charging Cart'\", \"'StyleView® Vertical Lift, Patient Room (white)'\", \"'SV4x Main Lift Engine for LCD Carts'\", \"'SV43/44 Supplemental Single Tall Drawer'\", \"'StyleView® Laptop Cart, 1 Drawer (1x1)'\", \"'StyleView® Laptop Cart, 1 Drawer (1x1)'\", '\\'34\" Wall Track (white)\\'', \"'WorkFit Dual Monitor Kit, universal'\", \"'Tall-User Kit for Single Display'\", \"'Corner Keyboard Tray for WorkFit'\", \"'Dual Monitor Double-Hinged Bow'\", \"'Grommet Mount Base for DS100'\", \"'Neo-Flex® Laptop Cart'\", \"'Neo-Flex® Laptop Cart'\", \"'Storage Bin'\", \"'DS100 Crossbar Extender, Short'\", \"'Interface Bracket Kit'\", \"'StyleView® Cart with LCD Pivot, SLA Powered, US/CA/MX'\", '\\'42\" Wall Track\\'', \"'LX Dual Side-by-Side Arm (polished aluminum)'\", \"'Command Post - Post Bracket'\", \"'Printer Bracket for Wall Track'\", \"'StyleView® Combo System with Worksurface, Medium CPU Holder (aluminum)'\", \"'StyleView® S-Tablet Cart, SV10'\", \"'StyleView® S-Tablet Cart, SV10'\", \"'StyleView® S-Tablet Cart, SV10'\", \"'MX Wall Monitor Arm'\", \"'SV SLA Replacement Battery, 33 Ah'\", \"'SV SLA Replacement Battery, 33 Ah'\", \"'StyleView® Sit-Stand Vertical Lift, High Traffic Area (black)'\", \"'SV4x Brake Cable Assembly for LCD Carts'\", \"'SV Replacement Coiled Cord, SLA Carts, US/CA/MX'\", \"'SV Replacement Coiled Cord, SLA Carts, US/CA/MX'\", \"'WorkFit-A, Single HD Workstation with Suspended Keyboard'\", \"'Neo-Flex® Mobile MediaCenter LD'\", '\\'CareFit™ Wall Track 34\" Covers\\'', \"'Keyboard Tray (grey)'\", \"'SV Camera Shelf'\", \"'StyleView® Cart with LCD Arm, 1 Drawer (1x1)'\", \"'Interactive Arm, VHD'\", \"'Neo-Flex® Monitor Stand'\", \"'LX HD Wall Swing Arm'\", \"'Neo-Flex® Tilting Wall Mount, VHD'\", \"'DS100 Quad-Monitor Desk Stand'\", \"'WorkFit-TL, Standing Desk Workstation (black with grey surface)'\", \"'WorkFit-TL, Standing Desk Workstation (black with grey surface)'\", \"'Foam Wrist Rest'\", \"'Power Cord, integrated, SLA carts, US/CA/MX'\", \"'StyleView® Laptop Cart, SLA Powered, 4 Drawers (3x1+1), US/CA/MX'\", \"'MXV Desk Monitor Arm (polished aluminum)'\", \"'StyleView® Sit-Stand Combo System, Small CPU Holder (aluminum)'\", \"'Power Strip'\", \"'StyleView® Cart with LCD Pivot, 2 Drawers (1x2)'\", \"'Neo-Flex® Extend LCD Arm'\", \"'LiFeKinnex™ Smart Battery Dock, US/CA/MX'\", \"'StyleView® Cart with LCD Pivot, LiFe Powered, US/CA/MX'\", \"'StyleView® Sit-Stand Vertical Lift, High Traffic Area (white)'\", \"'DS100 Triple-Monitor Desk Stand'\", \"'Mini CPU Holder, Slim 2.0'\", \"'CareFit™ Combo Extender'\", \"'Zido® Cable Bin'\", \"'Neo-Flex® LCD Cart'\", \"'LX Dual Stacking Arm, Tall Pole (white)'\", \"'Command Post - Base'\", \"'HX Wall Dual Monitor Arm (white)'\", \"'StyleView® Laptop Cart'\", \"'LX Desk Monitor Arm, Tall Pole (polished aluminum)'\", \"'Scanner Holder'\", \"'YES24 Adjusta Charging Cart'\", \"'Large Keyboard Tray for WorkFit-S'\", \"'LX HD Wall Mount Monitor Pivot'\", \"'LX Dual Stacking Arm Tall Pole (matte black)'\", \"'SV Sit-Stand Combo Extender, short (white)'\", \"'200 Series Combo Arm (white)'\", \"'LX Desk Monitor Arm (polished aluminum)'\", \"'WorkFit-C, Dual Sit-Stand Workstation'\", \"'StyleView® Sit-Stand Combo Arm (white)'\", \"'StyleView® Cart with LCD Arm, LiFe Powered, US/CA/MX'\", \"'WorkFit-SR, Dual Monitor, Standing Desk Workstation (black)'\", \"'T-Slot Wipes Holder'\", \"'WorkFit-A, Single LD Workstation with Suspended Keyboard'\", \"'Cable Management Kit (grey)'\", \"'Tall-User Kit for WorkFit Dual'\", \"'Neo-Flex® Ceiling Projector Mount'\", \"'Dual Monitor & Handle Kit'\", \"'HX Desk Monitor Arm (polished aluminum)'\", \"'Wall-Mount Scanner Holder'\", \"'LX Wall Monitor Arm (polished aluminum)'\", \"'StyleView® Laptop Cart, LiFe Powered, 1 Drawer (1x1), US/CA/MX'\", \"'CareFit™ Combo CPU Tray'\", \"'StyleView® Cart with LCD Pivot, LiFe Powered, 4 Drawers (3x1+1), US/CA/MX'\", \"'LX Wall Mount System, Medium CPU Holder'\", \"'SV Sit-Stand Combo Extender, short'\", \"'Mouse Holder (light grey)'\", \"'Right Door Assembly'\", '\\'SV Drawer Travel-Stop, 16\"/40 cm\\'']\n"
     ]
    }
   ],
   "source": [
    "import json\n",
    "item4=pn4['id']\n",
    "item3=pn4['Part Number']\n",
    "headers = {'User-Agent': 'Mozilla/5.0'}\n",
    "numbers = re.compile(r'\\d+(?:\\.\\d+)?')\n",
    "ssp = []\n",
    "part_name = []\n",
    "for part, num in zip(item4,item3):\n",
    "    url = \"https://partner.ergotron.com/DesktopModules/Ergotron/API/Client/GetProductDetails?culture=en-us&productId={}\" .format(part)\n",
    "    delay()\n",
    "    r = requests.get(url, headers=headers).json()\n",
    "    s = str(r)\n",
    "    try:\n",
    "        txt1 = s.split(\"'partNumber': '{}'\".format(num),1)[1]\n",
    "        txt2 = txt1.split(\"msrPrice\",1)[1]\n",
    "        txt3 = txt2.split(',',1)[0]\n",
    "        val1 = numbers.findall(txt3)\n",
    "        ssp.append(val1)\n",
    "    except:\n",
    "        try:\n",
    "            txt1 = s.split(\"'partNumber': '{} '\".format(num),1)[1]\n",
    "            txt2 = txt1.split(\"msrPrice\",1)[1]\n",
    "            txt3 = txt2.split(',',1)[0]\n",
    "            val1 = numbers.findall(txt3)\n",
    "            ssp.append(val1)\n",
    "        except:\n",
    "            try:\n",
    "                r_json = json.dumps(r['result'])\n",
    "                r_json = json.loads(r_json)\n",
    "                result_json = r_json[0]\n",
    "                p1 = result_json['listPrice']\n",
    "                val1 = numbers.findall(str(p1))\n",
    "                ssp.append(val1)\n",
    "            except:\n",
    "                ssp.append(\"noprice\")\n",
    "\n",
    "    try:\n",
    "        txt4 = txt1.split(\"'partName': \",1)[1]\n",
    "        name1 = txt4.split(\", 'msrPrice'\",1)[0]\n",
    "        part_name.append(name1)\n",
    "    except:\n",
    "        part_name.append(\"noname\")\n",
    "print(ssp)\n",
    "print(part_name)"
   ]
  },
  {
   "attachments": {},
   "cell_type": "markdown",
   "metadata": {},
   "source": [
    "#### 7. Next let's create new columns in our main dataframe for these new values we've gathered."
   ]
  },
  {
   "cell_type": "code",
   "execution_count": 23,
   "metadata": {},
   "outputs": [
    {
     "data": {
      "text/html": [
       "<div>\n",
       "<style scoped>\n",
       "    .dataframe tbody tr th:only-of-type {\n",
       "        vertical-align: middle;\n",
       "    }\n",
       "\n",
       "    .dataframe tbody tr th {\n",
       "        vertical-align: top;\n",
       "    }\n",
       "\n",
       "    .dataframe thead th {\n",
       "        text-align: right;\n",
       "    }\n",
       "</style>\n",
       "<table border=\"1\" class=\"dataframe\">\n",
       "  <thead>\n",
       "    <tr style=\"text-align: right;\">\n",
       "      <th></th>\n",
       "      <th>Product Name</th>\n",
       "      <th>Part Number</th>\n",
       "      <th>id</th>\n",
       "      <th>Status</th>\n",
       "      <th>SSP</th>\n",
       "      <th>Description</th>\n",
       "    </tr>\n",
       "  </thead>\n",
       "  <tbody>\n",
       "    <tr>\n",
       "      <th>0</th>\n",
       "      <td>ERG-33-397-085</td>\n",
       "      <td>33-397-085</td>\n",
       "      <td>143</td>\n",
       "      <td>no end date</td>\n",
       "      <td>[614.0]</td>\n",
       "      <td>'WorkFit-T, Standing Desk Workstation (black w...</td>\n",
       "    </tr>\n",
       "    <tr>\n",
       "      <th>1</th>\n",
       "      <td>ERG-61-367-030</td>\n",
       "      <td>61-367-030</td>\n",
       "      <td>1289</td>\n",
       "      <td>no end date</td>\n",
       "      <td>[1426.0]</td>\n",
       "      <td>'CareFit™ Enclosure (white)'</td>\n",
       "    </tr>\n",
       "    <tr>\n",
       "      <th>2</th>\n",
       "      <td>ERG-45-478-026</td>\n",
       "      <td>45-478-026</td>\n",
       "      <td>1055</td>\n",
       "      <td>no end date</td>\n",
       "      <td>[455.0]</td>\n",
       "      <td>'HX Wall Monitor Arm (polished aluminum)'</td>\n",
       "    </tr>\n",
       "    <tr>\n",
       "      <th>3</th>\n",
       "      <td>ERG-45-478-026</td>\n",
       "      <td>45-478-026</td>\n",
       "      <td>1055</td>\n",
       "      <td>no end date</td>\n",
       "      <td>[455.0]</td>\n",
       "      <td>'HX Wall Monitor Arm (polished aluminum)'</td>\n",
       "    </tr>\n",
       "    <tr>\n",
       "      <th>7</th>\n",
       "      <td>ERG-98-017</td>\n",
       "      <td>98-017</td>\n",
       "      <td>536</td>\n",
       "      <td>no end date</td>\n",
       "      <td>[26.0]</td>\n",
       "      <td>'LX Arm Grommet Mount'</td>\n",
       "    </tr>\n",
       "  </tbody>\n",
       "</table>\n",
       "</div>"
      ],
      "text/plain": [
       "     Product Name Part Number    id       Status       SSP  \\\n",
       "0  ERG-33-397-085  33-397-085   143  no end date   [614.0]   \n",
       "1  ERG-61-367-030  61-367-030  1289  no end date  [1426.0]   \n",
       "2  ERG-45-478-026  45-478-026  1055  no end date   [455.0]   \n",
       "3  ERG-45-478-026  45-478-026  1055  no end date   [455.0]   \n",
       "7      ERG-98-017      98-017   536  no end date    [26.0]   \n",
       "\n",
       "                                         Description  \n",
       "0  'WorkFit-T, Standing Desk Workstation (black w...  \n",
       "1                       'CareFit™ Enclosure (white)'  \n",
       "2          'HX Wall Monitor Arm (polished aluminum)'  \n",
       "3          'HX Wall Monitor Arm (polished aluminum)'  \n",
       "7                             'LX Arm Grommet Mount'  "
      ]
     },
     "execution_count": 23,
     "metadata": {},
     "output_type": "execute_result"
    }
   ],
   "source": [
    "pn5 = pn4[[\"Product Name\",\"Part Number\",\"id\",\"Status\"]]\n",
    "pn5.insert(4, \"SSP\", ssp, True)\n",
    "pn5.insert(5, \"Description\", part_name, True)\n",
    "pn5.head()"
   ]
  },
  {
   "cell_type": "code",
   "execution_count": 24,
   "metadata": {},
   "outputs": [
    {
     "name": "stdout",
     "output_type": "stream",
     "text": [
      "Empty DataFrame\n",
      "Columns: [Product Name, Part Number, id, Status, SSP, Description]\n",
      "Index: []\n",
      "Empty DataFrame\n",
      "Columns: [Product Name, Part Number, id, Status, SSP, Description]\n",
      "Index: []\n"
     ]
    },
    {
     "data": {
      "text/html": [
       "<div>\n",
       "<style scoped>\n",
       "    .dataframe tbody tr th:only-of-type {\n",
       "        vertical-align: middle;\n",
       "    }\n",
       "\n",
       "    .dataframe tbody tr th {\n",
       "        vertical-align: top;\n",
       "    }\n",
       "\n",
       "    .dataframe thead th {\n",
       "        text-align: right;\n",
       "    }\n",
       "</style>\n",
       "<table border=\"1\" class=\"dataframe\">\n",
       "  <thead>\n",
       "    <tr style=\"text-align: right;\">\n",
       "      <th></th>\n",
       "      <th>Product Name</th>\n",
       "      <th>Part Number</th>\n",
       "      <th>id</th>\n",
       "      <th>Status</th>\n",
       "      <th>SSP</th>\n",
       "      <th>Description</th>\n",
       "    </tr>\n",
       "  </thead>\n",
       "  <tbody>\n",
       "  </tbody>\n",
       "</table>\n",
       "</div>"
      ],
      "text/plain": [
       "Empty DataFrame\n",
       "Columns: [Product Name, Part Number, id, Status, SSP, Description]\n",
       "Index: []"
      ]
     },
     "execution_count": 24,
     "metadata": {},
     "output_type": "execute_result"
    }
   ],
   "source": [
    "# #check if we have any unexpected values in ssp\n",
    "# print(pn5[pn5['SSP']=='noprice'])\n",
    "# print(pn5[pn5['SSP']=='[]'])\n",
    "# pn5[pn5['SSP'].str.contains('') == True]\n"
   ]
  },
  {
   "attachments": {},
   "cell_type": "markdown",
   "metadata": {},
   "source": [
    "#### 8. Clean the data so that text and number formating is correct."
   ]
  },
  {
   "cell_type": "code",
   "execution_count": null,
   "metadata": {},
   "outputs": [],
   "source": [
    "pn5['SSP'] = pn5['SSP'].astype(str)\n",
    "pn5['SSP']=pn5['SSP'].str.replace('[','', regex=True).str.replace(']','', regex=True)\n",
    "pn5['SSP']=pn5['SSP'].str.replace(\"'\",'', regex=True).str.replace(\"'\",'', regex=True)\n",
    "pn5['Description']=pn5['Description'].str.replace(\",\",'', regex=True)\n",
    "pn5['SSP']=pn5['SSP'].replace('', np.nan)\n",
    "pn5['SSP'].fillna(0, inplace=True)\n",
    "pn5=pn5.astype({\"SSP\":\"float\"})\n",
    "pn5.head()"
   ]
  },
  {
   "cell_type": "code",
   "execution_count": 26,
   "metadata": {},
   "outputs": [
    {
     "name": "stdout",
     "output_type": "stream",
     "text": [
      "(283, 6)\n",
      "(276, 6)\n"
     ]
    }
   ],
   "source": [
    "#drop rows with ssp == 0\n",
    "print (pn5.shape)\n",
    "pn5 = pn5[pn5['SSP'] != 0]\n",
    "print (pn5.shape)"
   ]
  },
  {
   "cell_type": "code",
   "execution_count": 27,
   "metadata": {},
   "outputs": [],
   "source": [
    "#backup dataframe variables\n",
    "save(\"ergo_ps_backup\", 'cust_url', 'pn2', 'prod_id_df', 'cust_item', 'disc_items','pn3','ssp','part_name','pn3','pn4','pn5','redo','redo2')"
   ]
  },
  {
   "cell_type": "code",
   "execution_count": 4,
   "metadata": {},
   "outputs": [],
   "source": [
    "#Load backup if needed\n",
    "load(\"ergo_ps_backup\")"
   ]
  },
  {
   "attachments": {},
   "cell_type": "markdown",
   "metadata": {},
   "source": [
    "#### Check the amount of price change to look for unexpected changes"
   ]
  },
  {
   "cell_type": "code",
   "execution_count": 33,
   "metadata": {},
   "outputs": [
    {
     "data": {
      "text/html": [
       "<div>\n",
       "<style scoped>\n",
       "    .dataframe tbody tr th:only-of-type {\n",
       "        vertical-align: middle;\n",
       "    }\n",
       "\n",
       "    .dataframe tbody tr th {\n",
       "        vertical-align: top;\n",
       "    }\n",
       "\n",
       "    .dataframe thead th {\n",
       "        text-align: right;\n",
       "    }\n",
       "</style>\n",
       "<table border=\"1\" class=\"dataframe\">\n",
       "  <thead>\n",
       "    <tr style=\"text-align: right;\">\n",
       "      <th></th>\n",
       "      <th>Product Name</th>\n",
       "      <th>Part Number</th>\n",
       "      <th>id</th>\n",
       "      <th>Status</th>\n",
       "      <th>SSP</th>\n",
       "      <th>Description</th>\n",
       "      <th>Price</th>\n",
       "    </tr>\n",
       "  </thead>\n",
       "  <tbody>\n",
       "    <tr>\n",
       "      <th>0</th>\n",
       "      <td>ERG-33-397-085</td>\n",
       "      <td>33-397-085</td>\n",
       "      <td>143</td>\n",
       "      <td>no end date</td>\n",
       "      <td>614.0</td>\n",
       "      <td>'WorkFit-T Standing Desk Workstation (black wi...</td>\n",
       "      <td>$590.00</td>\n",
       "    </tr>\n",
       "    <tr>\n",
       "      <th>1</th>\n",
       "      <td>ERG-61-367-030</td>\n",
       "      <td>61-367-030</td>\n",
       "      <td>1289</td>\n",
       "      <td>no end date</td>\n",
       "      <td>1426.0</td>\n",
       "      <td>'CareFit™ Enclosure (white)'</td>\n",
       "      <td>$1,398.00</td>\n",
       "    </tr>\n",
       "    <tr>\n",
       "      <th>2</th>\n",
       "      <td>ERG-45-478-026</td>\n",
       "      <td>45-478-026</td>\n",
       "      <td>1055</td>\n",
       "      <td>no end date</td>\n",
       "      <td>455.0</td>\n",
       "      <td>'HX Wall Monitor Arm (polished aluminum)'</td>\n",
       "      <td>$450.00</td>\n",
       "    </tr>\n",
       "    <tr>\n",
       "      <th>3</th>\n",
       "      <td>ERG-98-017</td>\n",
       "      <td>98-017</td>\n",
       "      <td>536</td>\n",
       "      <td>no end date</td>\n",
       "      <td>26.0</td>\n",
       "      <td>'LX Arm Grommet Mount'</td>\n",
       "      <td>$25.00</td>\n",
       "    </tr>\n",
       "    <tr>\n",
       "      <th>4</th>\n",
       "      <td>ERG-97-617</td>\n",
       "      <td>97-617</td>\n",
       "      <td>385</td>\n",
       "      <td>no end date</td>\n",
       "      <td>119.0</td>\n",
       "      <td>'WorkFit Conversion Kit: Dual to LCD &amp; Laptop'</td>\n",
       "      <td>$114.00</td>\n",
       "    </tr>\n",
       "  </tbody>\n",
       "</table>\n",
       "</div>"
      ],
      "text/plain": [
       "     Product Name Part Number    id       Status     SSP  \\\n",
       "0  ERG-33-397-085  33-397-085   143  no end date   614.0   \n",
       "1  ERG-61-367-030  61-367-030  1289  no end date  1426.0   \n",
       "2  ERG-45-478-026  45-478-026  1055  no end date   455.0   \n",
       "3      ERG-98-017      98-017   536  no end date    26.0   \n",
       "4      ERG-97-617      97-617   385  no end date   119.0   \n",
       "\n",
       "                                         Description      Price  \n",
       "0  'WorkFit-T Standing Desk Workstation (black wi...    $590.00  \n",
       "1                       'CareFit™ Enclosure (white)'  $1,398.00  \n",
       "2          'HX Wall Monitor Arm (polished aluminum)'    $450.00  \n",
       "3                             'LX Arm Grommet Mount'     $25.00  \n",
       "4     'WorkFit Conversion Kit: Dual to LCD & Laptop'    $114.00  "
      ]
     },
     "execution_count": 33,
     "metadata": {},
     "output_type": "execute_result"
    }
   ],
   "source": [
    "# Checking for large changes against exisitng prices\n",
    "\n",
    "pn2_dd = pn2.drop_duplicates(subset='Product Name', keep ='first')\n",
    "pn5_dd = pn5.drop_duplicates(subset='Product Name', keep = 'first')\n",
    "pn5_dd = pn5_dd.merge(pn2_dd[['Product Name','Price']], how = 'left', left_on='Product Name',right_on='Product Name')\n",
    "pn5_dd = pn5_dd.drop_duplicates(subset='Description', keep = 'first')\n",
    "pn5_dd.head()"
   ]
  },
  {
   "cell_type": "code",
   "execution_count": 34,
   "metadata": {},
   "outputs": [
    {
     "data": {
      "text/html": [
       "<div>\n",
       "<style scoped>\n",
       "    .dataframe tbody tr th:only-of-type {\n",
       "        vertical-align: middle;\n",
       "    }\n",
       "\n",
       "    .dataframe tbody tr th {\n",
       "        vertical-align: top;\n",
       "    }\n",
       "\n",
       "    .dataframe thead th {\n",
       "        text-align: right;\n",
       "    }\n",
       "</style>\n",
       "<table border=\"1\" class=\"dataframe\">\n",
       "  <thead>\n",
       "    <tr style=\"text-align: right;\">\n",
       "      <th></th>\n",
       "      <th>Product Name</th>\n",
       "      <th>Part Number</th>\n",
       "      <th>id</th>\n",
       "      <th>Status</th>\n",
       "      <th>SSP</th>\n",
       "      <th>Description</th>\n",
       "      <th>Price</th>\n",
       "    </tr>\n",
       "  </thead>\n",
       "  <tbody>\n",
       "    <tr>\n",
       "      <th>0</th>\n",
       "      <td>ERG-33-397-085</td>\n",
       "      <td>33-397-085</td>\n",
       "      <td>143</td>\n",
       "      <td>no end date</td>\n",
       "      <td>614.0</td>\n",
       "      <td>'WorkFit-T Standing Desk Workstation (black wi...</td>\n",
       "      <td>590.00</td>\n",
       "    </tr>\n",
       "    <tr>\n",
       "      <th>1</th>\n",
       "      <td>ERG-61-367-030</td>\n",
       "      <td>61-367-030</td>\n",
       "      <td>1289</td>\n",
       "      <td>no end date</td>\n",
       "      <td>1426.0</td>\n",
       "      <td>'CareFit™ Enclosure (white)'</td>\n",
       "      <td>1398.00</td>\n",
       "    </tr>\n",
       "    <tr>\n",
       "      <th>2</th>\n",
       "      <td>ERG-45-478-026</td>\n",
       "      <td>45-478-026</td>\n",
       "      <td>1055</td>\n",
       "      <td>no end date</td>\n",
       "      <td>455.0</td>\n",
       "      <td>'HX Wall Monitor Arm (polished aluminum)'</td>\n",
       "      <td>450.00</td>\n",
       "    </tr>\n",
       "    <tr>\n",
       "      <th>3</th>\n",
       "      <td>ERG-98-017</td>\n",
       "      <td>98-017</td>\n",
       "      <td>536</td>\n",
       "      <td>no end date</td>\n",
       "      <td>26.0</td>\n",
       "      <td>'LX Arm Grommet Mount'</td>\n",
       "      <td>25.00</td>\n",
       "    </tr>\n",
       "    <tr>\n",
       "      <th>4</th>\n",
       "      <td>ERG-97-617</td>\n",
       "      <td>97-617</td>\n",
       "      <td>385</td>\n",
       "      <td>no end date</td>\n",
       "      <td>119.0</td>\n",
       "      <td>'WorkFit Conversion Kit: Dual to LCD &amp; Laptop'</td>\n",
       "      <td>114.00</td>\n",
       "    </tr>\n",
       "  </tbody>\n",
       "</table>\n",
       "</div>"
      ],
      "text/plain": [
       "     Product Name Part Number    id       Status     SSP  \\\n",
       "0  ERG-33-397-085  33-397-085   143  no end date   614.0   \n",
       "1  ERG-61-367-030  61-367-030  1289  no end date  1426.0   \n",
       "2  ERG-45-478-026  45-478-026  1055  no end date   455.0   \n",
       "3      ERG-98-017      98-017   536  no end date    26.0   \n",
       "4      ERG-97-617      97-617   385  no end date   119.0   \n",
       "\n",
       "                                         Description    Price  \n",
       "0  'WorkFit-T Standing Desk Workstation (black wi...   590.00  \n",
       "1                       'CareFit™ Enclosure (white)'  1398.00  \n",
       "2          'HX Wall Monitor Arm (polished aluminum)'   450.00  \n",
       "3                             'LX Arm Grommet Mount'    25.00  \n",
       "4     'WorkFit Conversion Kit: Dual to LCD & Laptop'   114.00  "
      ]
     },
     "execution_count": 34,
     "metadata": {},
     "output_type": "execute_result"
    }
   ],
   "source": [
    "pn5_dd['Price'] = pn5_dd['Price'].astype(str)\n",
    "pn5_dd['Price']=pn5_dd['Price'].str.replace('$','', regex=True).str.replace(',','', regex=True)\n",
    "\n",
    "pn5_dd.head()"
   ]
  },
  {
   "cell_type": "code",
   "execution_count": 35,
   "metadata": {},
   "outputs": [
    {
     "data": {
      "text/html": [
       "<div>\n",
       "<style scoped>\n",
       "    .dataframe tbody tr th:only-of-type {\n",
       "        vertical-align: middle;\n",
       "    }\n",
       "\n",
       "    .dataframe tbody tr th {\n",
       "        vertical-align: top;\n",
       "    }\n",
       "\n",
       "    .dataframe thead th {\n",
       "        text-align: right;\n",
       "    }\n",
       "</style>\n",
       "<table border=\"1\" class=\"dataframe\">\n",
       "  <thead>\n",
       "    <tr style=\"text-align: right;\">\n",
       "      <th></th>\n",
       "      <th>Product Name</th>\n",
       "      <th>Part Number</th>\n",
       "      <th>id</th>\n",
       "      <th>Status</th>\n",
       "      <th>SSP</th>\n",
       "      <th>Description</th>\n",
       "      <th>Price</th>\n",
       "      <th>Percent Change</th>\n",
       "    </tr>\n",
       "  </thead>\n",
       "  <tbody>\n",
       "    <tr>\n",
       "      <th>0</th>\n",
       "      <td>ERG-33-397-085</td>\n",
       "      <td>33-397-085</td>\n",
       "      <td>143</td>\n",
       "      <td>no end date</td>\n",
       "      <td>614.0</td>\n",
       "      <td>'WorkFit-T Standing Desk Workstation (black wi...</td>\n",
       "      <td>590.00</td>\n",
       "      <td>0.039088</td>\n",
       "    </tr>\n",
       "    <tr>\n",
       "      <th>1</th>\n",
       "      <td>ERG-61-367-030</td>\n",
       "      <td>61-367-030</td>\n",
       "      <td>1289</td>\n",
       "      <td>no end date</td>\n",
       "      <td>1426.0</td>\n",
       "      <td>'CareFit™ Enclosure (white)'</td>\n",
       "      <td>1398.00</td>\n",
       "      <td>0.019635</td>\n",
       "    </tr>\n",
       "    <tr>\n",
       "      <th>2</th>\n",
       "      <td>ERG-45-478-026</td>\n",
       "      <td>45-478-026</td>\n",
       "      <td>1055</td>\n",
       "      <td>no end date</td>\n",
       "      <td>455.0</td>\n",
       "      <td>'HX Wall Monitor Arm (polished aluminum)'</td>\n",
       "      <td>450.00</td>\n",
       "      <td>0.010989</td>\n",
       "    </tr>\n",
       "    <tr>\n",
       "      <th>3</th>\n",
       "      <td>ERG-98-017</td>\n",
       "      <td>98-017</td>\n",
       "      <td>536</td>\n",
       "      <td>no end date</td>\n",
       "      <td>26.0</td>\n",
       "      <td>'LX Arm Grommet Mount'</td>\n",
       "      <td>25.00</td>\n",
       "      <td>0.038462</td>\n",
       "    </tr>\n",
       "    <tr>\n",
       "      <th>4</th>\n",
       "      <td>ERG-97-617</td>\n",
       "      <td>97-617</td>\n",
       "      <td>385</td>\n",
       "      <td>no end date</td>\n",
       "      <td>119.0</td>\n",
       "      <td>'WorkFit Conversion Kit: Dual to LCD &amp; Laptop'</td>\n",
       "      <td>114.00</td>\n",
       "      <td>0.042017</td>\n",
       "    </tr>\n",
       "  </tbody>\n",
       "</table>\n",
       "</div>"
      ],
      "text/plain": [
       "     Product Name Part Number    id       Status     SSP  \\\n",
       "0  ERG-33-397-085  33-397-085   143  no end date   614.0   \n",
       "1  ERG-61-367-030  61-367-030  1289  no end date  1426.0   \n",
       "2  ERG-45-478-026  45-478-026  1055  no end date   455.0   \n",
       "3      ERG-98-017      98-017   536  no end date    26.0   \n",
       "4      ERG-97-617      97-617   385  no end date   119.0   \n",
       "\n",
       "                                         Description    Price  Percent Change  \n",
       "0  'WorkFit-T Standing Desk Workstation (black wi...   590.00        0.039088  \n",
       "1                       'CareFit™ Enclosure (white)'  1398.00        0.019635  \n",
       "2          'HX Wall Monitor Arm (polished aluminum)'   450.00        0.010989  \n",
       "3                             'LX Arm Grommet Mount'    25.00        0.038462  \n",
       "4     'WorkFit Conversion Kit: Dual to LCD & Laptop'   114.00        0.042017  "
      ]
     },
     "execution_count": 35,
     "metadata": {},
     "output_type": "execute_result"
    }
   ],
   "source": [
    "#adding a column for amount of change in price\n",
    "pn5_dd['Percent Change']=1-(pn5_dd['Price'].astype(float)/pn5_dd['SSP'].astype(float))\n",
    "pn5_dd.head()"
   ]
  },
  {
   "cell_type": "code",
   "execution_count": 36,
   "metadata": {},
   "outputs": [
    {
     "data": {
      "text/html": [
       "<div>\n",
       "<style scoped>\n",
       "    .dataframe tbody tr th:only-of-type {\n",
       "        vertical-align: middle;\n",
       "    }\n",
       "\n",
       "    .dataframe tbody tr th {\n",
       "        vertical-align: top;\n",
       "    }\n",
       "\n",
       "    .dataframe thead th {\n",
       "        text-align: right;\n",
       "    }\n",
       "</style>\n",
       "<table border=\"1\" class=\"dataframe\">\n",
       "  <thead>\n",
       "    <tr style=\"text-align: right;\">\n",
       "      <th></th>\n",
       "      <th>Product Name</th>\n",
       "      <th>Part Number</th>\n",
       "      <th>id</th>\n",
       "      <th>Status</th>\n",
       "      <th>SSP</th>\n",
       "      <th>Description</th>\n",
       "      <th>Price</th>\n",
       "      <th>Percent Change</th>\n",
       "    </tr>\n",
       "  </thead>\n",
       "  <tbody>\n",
       "  </tbody>\n",
       "</table>\n",
       "</div>"
      ],
      "text/plain": [
       "Empty DataFrame\n",
       "Columns: [Product Name, Part Number, id, Status, SSP, Description, Price, Percent Change]\n",
       "Index: []"
      ]
     },
     "execution_count": 36,
     "metadata": {},
     "output_type": "execute_result"
    }
   ],
   "source": [
    "#Create a new df for unusual price changes to double check before changes made in system\n",
    "flag_price = pn5_dd.loc[(pn5_dd['Percent Change']>.4)|(pn5_dd['Percent Change']<0)]\n",
    "flag_price"
   ]
  },
  {
   "attachments": {},
   "cell_type": "markdown",
   "metadata": {},
   "source": [
    "#### Add CRM system unique IDs\n",
    "In order to properly import the updated information into the CRM system we needed to match the parts with the unique ID numbers generated by the CRM. In the future this could be done on the initial import."
   ]
  },
  {
   "cell_type": "code",
   "execution_count": 38,
   "metadata": {},
   "outputs": [
    {
     "data": {
      "text/html": [
       "<div>\n",
       "<style scoped>\n",
       "    .dataframe tbody tr th:only-of-type {\n",
       "        vertical-align: middle;\n",
       "    }\n",
       "\n",
       "    .dataframe tbody tr th {\n",
       "        vertical-align: top;\n",
       "    }\n",
       "\n",
       "    .dataframe thead th {\n",
       "        text-align: right;\n",
       "    }\n",
       "</style>\n",
       "<table border=\"1\" class=\"dataframe\">\n",
       "  <thead>\n",
       "    <tr style=\"text-align: right;\">\n",
       "      <th></th>\n",
       "      <th>Product Name</th>\n",
       "      <th>crm_ID</th>\n",
       "    </tr>\n",
       "  </thead>\n",
       "  <tbody>\n",
       "    <tr>\n",
       "      <th>0</th>\n",
       "      <td>ERG-33-397-085</td>\n",
       "      <td>1001cee2-12d6-dabd-0765-54aec2451f45</td>\n",
       "    </tr>\n",
       "    <tr>\n",
       "      <th>1</th>\n",
       "      <td>ERG-61-367-030</td>\n",
       "      <td>11bd2dfd-f754-a5d2-c45d-5e5eaf825641</td>\n",
       "    </tr>\n",
       "    <tr>\n",
       "      <th>2</th>\n",
       "      <td>ERG-45-478-026</td>\n",
       "      <td>11ca3cd7-405c-38ca-42c4-58d43d63d597</td>\n",
       "    </tr>\n",
       "    <tr>\n",
       "      <th>3</th>\n",
       "      <td>ERG-24-313-026</td>\n",
       "      <td>120c6e18-bd67-4b6b-ff5a-53ee6dd096f9</td>\n",
       "    </tr>\n",
       "    <tr>\n",
       "      <th>4</th>\n",
       "      <td>ERG-60-610-062</td>\n",
       "      <td>13196af5-5189-69ef-d247-528634d65620</td>\n",
       "    </tr>\n",
       "  </tbody>\n",
       "</table>\n",
       "</div>"
      ],
      "text/plain": [
       "     Product Name                                crm_ID\n",
       "0  ERG-33-397-085  1001cee2-12d6-dabd-0765-54aec2451f45\n",
       "1  ERG-61-367-030  11bd2dfd-f754-a5d2-c45d-5e5eaf825641\n",
       "2  ERG-45-478-026  11ca3cd7-405c-38ca-42c4-58d43d63d597\n",
       "3  ERG-24-313-026  120c6e18-bd67-4b6b-ff5a-53ee6dd096f9\n",
       "4  ERG-60-610-062  13196af5-5189-69ef-d247-528634d65620"
      ]
     },
     "execution_count": 38,
     "metadata": {},
     "output_type": "execute_result"
    }
   ],
   "source": [
    "\n",
    "crm_1 = pd.read_csv('CRM.csv',  thousands=\",\")\n",
    "crm_1.rename(columns={\"ID\": \"crm_ID\"}, inplace=True)\n",
    "crm_1.drop(columns=['Description', 'contact_id', 'Assigned to',\n",
    "       'Assigned User Id', 'Date Created', 'Date Modified', 'Created By',\n",
    "       'Modified By', 'Deleted', 'Product Code', 'Part Number', 'Category',\n",
    "       'Product Type', 'Cost', 'Cost (Default Currency)', 'Currency', 'Price',\n",
    "       'Price (Default Currency)', 'URL', 'Product Image',\n",
    "       'Product Category ID', 'Modified By Name', 'modified_by_name_owner',\n",
    "       'modified_by_name_mod', 'Created By.1', 'created_by_name_owner',\n",
    "       'created_by_name_mod', 'assigned_user_name_owner',\n",
    "       'assigned_user_name_mod', 'Contact', 'Product Category'], inplace=True)\n",
    "crm_1.head()"
   ]
  },
  {
   "cell_type": "code",
   "execution_count": 39,
   "metadata": {},
   "outputs": [
    {
     "data": {
      "text/html": [
       "<div>\n",
       "<style scoped>\n",
       "    .dataframe tbody tr th:only-of-type {\n",
       "        vertical-align: middle;\n",
       "    }\n",
       "\n",
       "    .dataframe tbody tr th {\n",
       "        vertical-align: top;\n",
       "    }\n",
       "\n",
       "    .dataframe thead th {\n",
       "        text-align: right;\n",
       "    }\n",
       "</style>\n",
       "<table border=\"1\" class=\"dataframe\">\n",
       "  <thead>\n",
       "    <tr style=\"text-align: right;\">\n",
       "      <th></th>\n",
       "      <th>Product Name</th>\n",
       "      <th>Part Number</th>\n",
       "      <th>id</th>\n",
       "      <th>Status</th>\n",
       "      <th>SSP</th>\n",
       "      <th>Description</th>\n",
       "      <th>Price</th>\n",
       "      <th>Percent Change</th>\n",
       "      <th>crm_ID</th>\n",
       "    </tr>\n",
       "  </thead>\n",
       "  <tbody>\n",
       "    <tr>\n",
       "      <th>0</th>\n",
       "      <td>ERG-33-397-085</td>\n",
       "      <td>33-397-085</td>\n",
       "      <td>143</td>\n",
       "      <td>no end date</td>\n",
       "      <td>614.0</td>\n",
       "      <td>'WorkFit-T Standing Desk Workstation (black wi...</td>\n",
       "      <td>590.00</td>\n",
       "      <td>0.039088</td>\n",
       "      <td>1001cee2-12d6-dabd-0765-54aec2451f45</td>\n",
       "    </tr>\n",
       "    <tr>\n",
       "      <th>1</th>\n",
       "      <td>ERG-61-367-030</td>\n",
       "      <td>61-367-030</td>\n",
       "      <td>1289</td>\n",
       "      <td>no end date</td>\n",
       "      <td>1426.0</td>\n",
       "      <td>'CareFit™ Enclosure (white)'</td>\n",
       "      <td>1398.00</td>\n",
       "      <td>0.019635</td>\n",
       "      <td>11bd2dfd-f754-a5d2-c45d-5e5eaf825641</td>\n",
       "    </tr>\n",
       "    <tr>\n",
       "      <th>2</th>\n",
       "      <td>ERG-45-478-026</td>\n",
       "      <td>45-478-026</td>\n",
       "      <td>1055</td>\n",
       "      <td>no end date</td>\n",
       "      <td>455.0</td>\n",
       "      <td>'HX Wall Monitor Arm (polished aluminum)'</td>\n",
       "      <td>450.00</td>\n",
       "      <td>0.010989</td>\n",
       "      <td>11ca3cd7-405c-38ca-42c4-58d43d63d597</td>\n",
       "    </tr>\n",
       "    <tr>\n",
       "      <th>3</th>\n",
       "      <td>ERG-45-478-026</td>\n",
       "      <td>45-478-026</td>\n",
       "      <td>1055</td>\n",
       "      <td>no end date</td>\n",
       "      <td>455.0</td>\n",
       "      <td>'HX Wall Monitor Arm (polished aluminum)'</td>\n",
       "      <td>450.00</td>\n",
       "      <td>0.010989</td>\n",
       "      <td>6f07ea7f-61f9-2cbd-f832-5d3f48380849</td>\n",
       "    </tr>\n",
       "    <tr>\n",
       "      <th>4</th>\n",
       "      <td>ERG-98-017</td>\n",
       "      <td>98-017</td>\n",
       "      <td>536</td>\n",
       "      <td>no end date</td>\n",
       "      <td>26.0</td>\n",
       "      <td>'LX Arm Grommet Mount'</td>\n",
       "      <td>25.00</td>\n",
       "      <td>0.038462</td>\n",
       "      <td>1381e37e-fc5d-9bff-0a59-5d5bff0bc399</td>\n",
       "    </tr>\n",
       "  </tbody>\n",
       "</table>\n",
       "</div>"
      ],
      "text/plain": [
       "     Product Name Part Number    id       Status     SSP  \\\n",
       "0  ERG-33-397-085  33-397-085   143  no end date   614.0   \n",
       "1  ERG-61-367-030  61-367-030  1289  no end date  1426.0   \n",
       "2  ERG-45-478-026  45-478-026  1055  no end date   455.0   \n",
       "3  ERG-45-478-026  45-478-026  1055  no end date   455.0   \n",
       "4      ERG-98-017      98-017   536  no end date    26.0   \n",
       "\n",
       "                                         Description    Price  Percent Change  \\\n",
       "0  'WorkFit-T Standing Desk Workstation (black wi...   590.00        0.039088   \n",
       "1                       'CareFit™ Enclosure (white)'  1398.00        0.019635   \n",
       "2          'HX Wall Monitor Arm (polished aluminum)'   450.00        0.010989   \n",
       "3          'HX Wall Monitor Arm (polished aluminum)'   450.00        0.010989   \n",
       "4                             'LX Arm Grommet Mount'    25.00        0.038462   \n",
       "\n",
       "                                 crm_ID  \n",
       "0  1001cee2-12d6-dabd-0765-54aec2451f45  \n",
       "1  11bd2dfd-f754-a5d2-c45d-5e5eaf825641  \n",
       "2  11ca3cd7-405c-38ca-42c4-58d43d63d597  \n",
       "3  6f07ea7f-61f9-2cbd-f832-5d3f48380849  \n",
       "4  1381e37e-fc5d-9bff-0a59-5d5bff0bc399  "
      ]
     },
     "execution_count": 39,
     "metadata": {},
     "output_type": "execute_result"
    }
   ],
   "source": [
    "pn5_dd = pn5_dd.merge(crm_1[['Product Name','crm_ID']], how = 'left', left_on='Product Name',right_on='Product Name')\n",
    "pn5_dd.head()"
   ]
  },
  {
   "cell_type": "markdown",
   "metadata": {},
   "source": [
    "Next let's visualize the change per item to try to identify any spikes and to get an overall idea of common change amounts."
   ]
  },
  {
   "cell_type": "code",
   "execution_count": 10,
   "metadata": {},
   "outputs": [
    {
     "data": {
      "text/plain": [
       "(262, 9)"
      ]
     },
     "execution_count": 10,
     "metadata": {},
     "output_type": "execute_result"
    }
   ],
   "source": [
    "pn5_dd.shape"
   ]
  },
  {
   "cell_type": "code",
   "execution_count": 6,
   "metadata": {},
   "outputs": [
    {
     "data": {
      "image/png": "[encoded data removed]",
      "text/plain": [
       "<Figure size 640x480 with 1 Axes>"
      ]
     },
     "metadata": {},
     "output_type": "display_data"
    }
   ],
   "source": [
    "import matplotlib.pyplot as plt\n",
    "import numpy as np\n",
    "\n",
    "num_items = pn5_dd.shape[0]\n",
    "item_names = [f'Item {i}' for i in range(1, num_items + 1)]\n",
    "percentage_changes = pn5_dd['Percent Change']*100\n",
    "\n",
    "# Create a horizontal bar plot\n",
    "plt.barh(item_names, percentage_changes, color='skyblue')\n",
    "\n",
    "# Set labels and title\n",
    "plt.xlabel('Percentage Change')\n",
    "plt.ylabel('Items')\n",
    "plt.title('Percentage Change per Item')\n",
    "\n",
    "# Add grid lines for better readability\n",
    "plt.grid(axis='x')\n",
    "\n",
    "# remove label for y axis\n",
    "plt.yticks([])\n",
    "\n",
    "# Show the plot\n",
    "plt.show()"
   ]
  },
  {
   "cell_type": "code",
   "execution_count": 7,
   "metadata": {},
   "outputs": [
    {
     "data": {
      "image/png": "[encoded data removed]",
      "text/plain": [
       "<Figure size 640x480 with 1 Axes>"
      ]
     },
     "metadata": {},
     "output_type": "display_data"
    }
   ],
   "source": [
    "import seaborn as sns\n",
    "import numpy as np\n",
    "\n",
    "# Create a Seaborn histogram with KDE\n",
    "sns.histplot(percentage_changes, kde=True, color='red', bins=30)\n",
    "\n",
    "# Set labels and title\n",
    "plt.xlabel('Price Change Amount')\n",
    "plt.ylabel('Frequency')\n",
    "plt.title('How Many Products Within Each Level of Price Change Percent')\n",
    "\n",
    "# Show the plot\n",
    "plt.show()"
   ]
  },
  {
   "cell_type": "markdown",
   "metadata": {},
   "source": [
    "Now lets show the items with the highest increase. "
   ]
  },
  {
   "cell_type": "code",
   "execution_count": 5,
   "metadata": {},
   "outputs": [],
   "source": [
    "# Calculate the threshold for the top 10%\n",
    "threshold = pn5_dd['Percent Change'].quantile(0.9)\n",
    "\n",
    "# Subset pn5_dd with the top 10%\n",
    "top_10_percent = pn5_dd[pn5_dd['Percent Change'] >= threshold]\n"
   ]
  },
  {
   "cell_type": "code",
   "execution_count": 28,
   "metadata": {},
   "outputs": [
    {
     "data": {
      "image/png": "[encoded data removed]",
      "text/plain": [
       "<Figure size 1000x600 with 1 Axes>"
      ]
     },
     "metadata": {},
     "output_type": "display_data"
    }
   ],
   "source": [
    "# Sort pn5_dd by the percent change in descending order\n",
    "top_10_percent = top_10_percent.sort_values(by='Percent Change', ascending=False)\n",
    "\n",
    "# Plot the values\n",
    "plt.figure(figsize=(10, 6))\n",
    "plt.bar(top_10_percent[\"Part Number\"],top_10_percent['Percent Change'], color='green')\n",
    "plt.xlabel('Part Number')\n",
    "plt.ylabel('Percent Change')\n",
    "plt.title('Items with top 10 Percent Price Increase')\n",
    "\n",
    "plt.xticks(rotation=45)\n",
    "\n",
    "plt.show()\n"
   ]
  },
  {
   "attachments": {},
   "cell_type": "markdown",
   "metadata": {},
   "source": [
    "#### CSV File Output"
   ]
  },
  {
   "cell_type": "code",
   "execution_count": 40,
   "metadata": {},
   "outputs": [],
   "source": [
    "redo.to_csv(r'./inv_items.csv', index = False)\n",
    "redo2.to_csv(r'./disc_items.csv', index = False)"
   ]
  },
  {
   "cell_type": "code",
   "execution_count": 41,
   "metadata": {},
   "outputs": [],
   "source": [
    "pn5_dd.to_csv(r'./erg_web_price.csv', index = False)\n"
   ]
  },
  {
   "attachments": {},
   "cell_type": "markdown",
   "metadata": {},
   "source": [
    "## Backup and Reload Point"
   ]
  },
  {
   "cell_type": "code",
   "execution_count": 42,
   "metadata": {},
   "outputs": [],
   "source": [
    "save(\"ergo_ps_backup\", 'cust_url', 'pn2', 'prod_id_df', 'cust_item', 'disc_items','pn3','ssp','part_name','pn3','pn4','pn5','redo','redo2','pn5_dd')"
   ]
  },
  {
   "cell_type": "code",
   "execution_count": 4,
   "metadata": {},
   "outputs": [],
   "source": [
    "#Load backup if needed\n",
    "load(\"ergo_ps_backup\")"
   ]
  }
 ],
 "metadata": {
  "kernelspec": {
   "display_name": "DCP",
   "language": "python",
   "name": "python3"
  },
  "language_info": {
   "codemirror_mode": {
    "name": "ipython",
    "version": 3
   },
   "file_extension": ".py",
   "mimetype": "text/x-python",
   "name": "python",
   "nbconvert_exporter": "python",
   "pygments_lexer": "ipython3",
   "version": "3.10.12"
  },
  "vscode": {
   "interpreter": {
    "hash": "feec8323a1bc0a0476c5c249cb49e11c2afd0e641af97ca738713965a3109ebe"
   }
  }
 },
 "nbformat": 4,
 "nbformat_minor": 2
}
